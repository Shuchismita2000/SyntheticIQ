{
 "cells": [
  {
   "cell_type": "code",
   "execution_count": 4,
   "metadata": {},
   "outputs": [
    {
     "name": "stdout",
     "output_type": "stream",
     "text": [
      "Error interacting with Ollama: 404 404 page not found\n",
      "Failed to generate schema from Ollama.\n"
     ]
    }
   ],
   "source": [
    "import requests\n",
    "import pandas as pd\n",
    "import numpy as np\n",
    "from faker import Faker\n",
    "import json\n",
    "\n",
    "\n",
    "# Initialize Faker\n",
    "fake = Faker()\n",
    "\n",
    "\n",
    "# Function to interact with Ollama for schema generation\n",
    "def get_schema_from_ollama(context):\n",
    "    url = \"http://localhost:11434/c api/completion\"\n",
    "    headers = {\"Content-Type\": \"application/json\"}\n",
    "    payload = {\n",
    "        \"model\": \"llama3.2\",  # Specify the Ollama model you are using\n",
    "        \"prompt\": f\"\"\"\n",
    "        You are a data generation assistant. Based on the following business context:\n",
    "        {context}\n",
    "\n",
    "\n",
    "        Generate a dataset schema with fields, data types, and example values. Provide the schema in JSON format.\n",
    "        \"\"\"\n",
    "    }\n",
    "    response = requests.post(url, headers=headers, json=payload)\n",
    "    if response.status_code == 200:\n",
    "        return response.json()['content']\n",
    "    else:\n",
    "        print(\"Error interacting with Ollama:\", response.status_code, response.text)\n",
    "        return None\n",
    "\n",
    "\n",
    "# Function to generate synthetic data based on schema\n",
    "def generate_dataset_from_schema(schema, num_rows):\n",
    "    data = {}\n",
    "    for field in schema:\n",
    "        field_name = field['name']\n",
    "        field_type = field['type']\n",
    "        if field_type == 'string':\n",
    "            data[field_name] = [fake.name() for _ in range(num_rows)]\n",
    "        elif field_type == 'integer':\n",
    "            data[field_name] = [np.random.randint(1, 100) for _ in range(num_rows)]\n",
    "        elif field_type == 'float':\n",
    "            data[field_name] = [round(np.random.uniform(1.0, 100.0), 2) for _ in range(num_rows)]\n",
    "        elif field_type == 'date':\n",
    "            data[field_name] = [fake.date_this_year() for _ in range(num_rows)]\n",
    "    return pd.DataFrame(data)\n",
    "\n",
    "\n",
    "# Main workflow in Jupyter Notebook\n",
    "# Step 1: Get input from user\n",
    "context = input(\"Describe the business context for the dataset: \")\n",
    "num_rows = int(input(\"How many rows of data do you need? \"))\n",
    "\n",
    "\n",
    "# Step 2: Get schema from Ollama\n",
    "schema_response = get_schema_from_ollama(context)\n",
    "\n",
    "\n",
    "if schema_response:\n",
    "    print(\"AI-Generated Schema:\")\n",
    "    print(schema_response)\n",
    "\n",
    "\n",
    "    # Step 3: Parse the schema\n",
    "    schema = json.loads(schema_response)\n",
    "\n",
    "\n",
    "    # Step 4: Generate dataset\n",
    "    dataset = generate_dataset_from_schema(schema, num_rows)\n",
    "    print(\"Generated Dataset Preview:\")\n",
    "    print(dataset.head())\n",
    "\n",
    "\n",
    "    # Step 5: Save the dataset\n",
    "    dataset.to_csv(\"ollama_generated_dataset.csv\", index=False)\n",
    "    print(\"Dataset saved as 'ollama_generated_dataset.csv'\")\n",
    "else:\n",
    "    print(\"Failed to generate schema from Ollama.\")\n",
    "\n",
    "\n"
   ]
  },
  {
   "cell_type": "code",
   "execution_count": 2,
   "metadata": {},
   "outputs": [
    {
     "name": "stdout",
     "output_type": "stream",
     "text": [
      "Collecting faker\n",
      "  Downloading Faker-33.1.0-py3-none-any.whl.metadata (15 kB)\n",
      "Requirement already satisfied: python-dateutil>=2.4 in c:\\users\\shuchismita mallick\\anaconda3\\envs\\mygitenv\\lib\\site-packages (from faker) (2.9.0)\n",
      "Requirement already satisfied: typing-extensions in c:\\users\\shuchismita mallick\\anaconda3\\envs\\mygitenv\\lib\\site-packages (from faker) (4.12.2)\n",
      "Requirement already satisfied: six>=1.5 in c:\\users\\shuchismita mallick\\anaconda3\\envs\\mygitenv\\lib\\site-packages (from python-dateutil>=2.4->faker) (1.16.0)\n",
      "Downloading Faker-33.1.0-py3-none-any.whl (1.9 MB)\n",
      "   ---------------------------------------- 0.0/1.9 MB ? eta -:--:--\n",
      "   ---------------------------------------- 0.0/1.9 MB ? eta -:--:--\n",
      "   ---------------------------------------- 0.0/1.9 MB ? eta -:--:--\n",
      "    --------------------------------------- 0.0/1.9 MB 393.8 kB/s eta 0:00:05\n",
      "   -- ------------------------------------- 0.1/1.9 MB 901.1 kB/s eta 0:00:02\n",
      "   ------ --------------------------------- 0.3/1.9 MB 1.8 MB/s eta 0:00:01\n",
      "   ------------- -------------------------- 0.7/1.9 MB 2.7 MB/s eta 0:00:01\n",
      "   -------------------- ------------------- 1.0/1.9 MB 3.4 MB/s eta 0:00:01\n",
      "   --------------------------- ------------ 1.3/1.9 MB 3.9 MB/s eta 0:00:01\n",
      "   ------------------------------- -------- 1.5/1.9 MB 3.9 MB/s eta 0:00:01\n",
      "   ----------------------------------- ---- 1.7/1.9 MB 3.8 MB/s eta 0:00:01\n",
      "   ---------------------------------------  1.9/1.9 MB 4.0 MB/s eta 0:00:01\n",
      "   ---------------------------------------  1.9/1.9 MB 3.6 MB/s eta 0:00:01\n",
      "   ---------------------------------------- 1.9/1.9 MB 3.5 MB/s eta 0:00:00\n",
      "Installing collected packages: faker\n",
      "Successfully installed faker-33.1.0\n",
      "Note: you may need to restart the kernel to use updated packages.\n"
     ]
    },
    {
     "name": "stderr",
     "output_type": "stream",
     "text": [
      "WARNING: Ignoring invalid distribution -treamlit (c:\\users\\shuchismita mallick\\anaconda3\\envs\\mygitenv\\lib\\site-packages)\n",
      "WARNING: Ignoring invalid distribution -treamlit (c:\\users\\shuchismita mallick\\anaconda3\\envs\\mygitenv\\lib\\site-packages)\n"
     ]
    }
   ],
   "source": [
    "%pip install faker"
   ]
  },
  {
   "cell_type": "code",
   "execution_count": null,
   "metadata": {},
   "outputs": [],
   "source": []
  }
 ],
 "metadata": {
  "kernelspec": {
   "display_name": "mygitenv",
   "language": "python",
   "name": "python3"
  },
  "language_info": {
   "codemirror_mode": {
    "name": "ipython",
    "version": 3
   },
   "file_extension": ".py",
   "mimetype": "text/x-python",
   "name": "python",
   "nbconvert_exporter": "python",
   "pygments_lexer": "ipython3",
   "version": "3.10.14"
  }
 },
 "nbformat": 4,
 "nbformat_minor": 2
}
